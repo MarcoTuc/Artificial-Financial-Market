{
 "cells": [
  {
   "cell_type": "code",
   "execution_count": 3,
   "metadata": {},
   "outputs": [],
   "source": [
    "import sys\n",
    "\n",
    "sys.path.insert(0, 'Lux\\model')"
   ]
  },
  {
   "cell_type": "code",
   "execution_count": 4,
   "metadata": {},
   "outputs": [],
   "source": [
    "import os\n",
    "import pickle\n",
    "\n",
    "import matplotlib.pyplot as plt\n",
    "import numpy as np\n",
    "import pandas as pd\n",
    "import conf\n",
    "from conf import RESULT_DIR\n",
    "from scipy.stats import kstest, norm, kurtosis\n",
    "from statsmodels.tsa.stattools import adfuller\n",
    "from statsmodels.stats.diagnostic import acorr_ljungbox\n",
    "from statsmodels.graphics.tsaplots import plot_acf, plot_pacf\n"
   ]
  },
  {
   "cell_type": "code",
   "execution_count": 7,
   "metadata": {},
   "outputs": [],
   "source": [
    "plt.style.use('ggplot')"
   ]
  },
  {
   "cell_type": "code",
   "execution_count": 5,
   "metadata": {},
   "outputs": [],
   "source": [
    "df_list = pd.read_csv(\"{RESULT_DIR}\\model_vars.csv\",\n",
    "usecols=['price','run'])"
   ]
  },
  {
   "cell_type": "code",
   "execution_count": 8,
   "metadata": {},
   "outputs": [
    {
     "name": "stderr",
     "output_type": "stream",
     "text": [
      "C:\\Users\\marco\\AppData\\Local\\Temp\\ipykernel_9164\\2328546489.py:6: FutureWarning: The behavior of `series[i:j]` with an integer-dtype index is deprecated. In a future version, this will be treated as *label-based* indexing, consistent with e.g. `series[i]` lookups. To retain the old behavior, use `series.iloc[i:j]`. To get the future behavior, use `series.loc[i:j]`.\n",
      "  avgcov = [np.average(abs(runreturns).rolling(i).cov()[i:]) for i in range(3,6000)]\n"
     ]
    }
   ],
   "source": [
    "avgavgcov = []\n",
    "for run in range(conf.N_RUNS):\n",
    "    runprice = df_list[df_list['run'] == run]['price']\n",
    "    tau = 20 \n",
    "    runreturns = 100*runprice.pct_change()\n",
    "    avgcov = [np.average(abs(runreturns).rolling(i).cov()[i:]) for i in range(3,6000)]\n",
    "    avgavgcov.append(np.average(avgcov))"
   ]
  },
  {
   "cell_type": "code",
   "execution_count": 13,
   "metadata": {},
   "outputs": [],
   "source": [
    "df = pd.DataFrame(avgavgcov)\n",
    "df.to_csv(\"avgcovperrun.csv\")"
   ]
  },
  {
   "cell_type": "code",
   "execution_count": 10,
   "metadata": {},
   "outputs": [
    {
     "data": {
      "text/plain": [
       "(array([ 1.,  1.,  0.,  1.,  1.,  0.,  3.,  1.,  4.,  4.,  5.,  4.,  6.,\n",
       "         9.,  9.,  9., 20., 14., 26., 26., 20., 27., 23., 33., 29., 20.,\n",
       "        38., 20., 29., 24., 17., 14., 10., 12.,  5., 13.,  6.,  4.,  4.,\n",
       "         2.,  1.,  0.,  1.,  3.,  0.,  0.,  0.,  0.,  0.,  1.]),\n",
       " array([0.0013493 , 0.00135262, 0.00135595, 0.00135927, 0.00136259,\n",
       "        0.00136592, 0.00136924, 0.00137257, 0.00137589, 0.00137921,\n",
       "        0.00138254, 0.00138586, 0.00138918, 0.00139251, 0.00139583,\n",
       "        0.00139915, 0.00140248, 0.0014058 , 0.00140913, 0.00141245,\n",
       "        0.00141577, 0.0014191 , 0.00142242, 0.00142574, 0.00142907,\n",
       "        0.00143239, 0.00143572, 0.00143904, 0.00144236, 0.00144569,\n",
       "        0.00144901, 0.00145233, 0.00145566, 0.00145898, 0.0014623 ,\n",
       "        0.00146563, 0.00146895, 0.00147228, 0.0014756 , 0.00147892,\n",
       "        0.00148225, 0.00148557, 0.00148889, 0.00149222, 0.00149554,\n",
       "        0.00149886, 0.00150219, 0.00150551, 0.00150884, 0.00151216,\n",
       "        0.00151548]),\n",
       " <BarContainer object of 50 artists>)"
      ]
     },
     "execution_count": 10,
     "metadata": {},
     "output_type": "execute_result"
    },
    {
     "data": {
      "image/png": "[encoded data removed]",
      "text/plain": [
       "<Figure size 432x288 with 1 Axes>"
      ]
     },
     "metadata": {},
     "output_type": "display_data"
    }
   ],
   "source": [
    "plt.hist(avgavgcov,bins=50)"
   ]
  },
  {
   "cell_type": "code",
   "execution_count": 20,
   "metadata": {},
   "outputs": [
    {
     "name": "stderr",
     "output_type": "stream",
     "text": [
      "C:\\Users\\marco\\AppData\\Local\\Temp\\ipykernel_10664\\802031360.py:5: FutureWarning: The behavior of `series[i:j]` with an integer-dtype index is deprecated. In a future version, this will be treated as *label-based* indexing, consistent with e.g. `series[i]` lookups. To retain the old behavior, use `series.iloc[i:j]`. To get the future behavior, use `series.loc[i:j]`.\n",
      "  avgcov = [np.average(abs(runreturns).rolling(i).cov()[i:]) for i in range(6000)][2:]\n"
     ]
    }
   ],
   "source": [
    "avgavgcov = []\n",
    "runprice = df_list[df_list['run'] == 3]['price']\n",
    "tau = 20 \n",
    "runreturns = 100*runprice.pct_change()\n",
    "avgcov = [np.average(abs(runreturns).rolling(i).cov()[i:]) for i in range(6000)][2:]\n",
    "avgavgcov.append(np.average(avgcov))"
   ]
  },
  {
   "cell_type": "code",
   "execution_count": 7,
   "metadata": {},
   "outputs": [],
   "source": [
    "pvalues = [adfuller(list(df_list[i].loc[:,'price']))[1] for i in range(len(df_list))]\n",
    "volclus = [acorr_ljungbox(list(df_list[i].loc[:,'price']), lags = [20], return_df = True) for i in range(len(df_list))]\n",
    "volclusvalues = [volclus[i]['lb_pvalue'].values[0]  for i in range(len(volclus))]\n",
    "kurtosisvalues = [kurtosis(pd.DataFrame(df_list[i]['price'].values[1:] - df_list[i]['price'].values[:-1]).rolling(20, step = 2).sum()[10:]) for i in range(len(df_list))]"
   ]
  },
  {
   "cell_type": "code",
   "execution_count": 113,
   "metadata": {},
   "outputs": [],
   "source": [
    "for i, model_df in enumerate(df_list):\n",
    "    fig , ax = plt.subplots(3,1, figsize=(20, 16),dpi=300)\n",
    "    ax[0].set_xlabel(f'Price time series - run {i}')\n",
    "    ax[1].set_xlabel(f'Technical fraction run {i}')\n",
    "    ax[2].set_xlabel(f'Opinion Index run {i}')\n",
    "    ax[0].plot(model_df.price, label=f'Run {i}')\n",
    "    ax[1].plot(model_df.technical_fraction, label=f'Run {i}')\n",
    "    ax[2].plot(model_df.opinion_index, label = f'Run {i}')\n",
    "    # fig.tight_layout(pad=5.0)\n",
    "    title = ['DF-Test pvalue = ', round(pvalues[i],3), ' \\u21FE ','Unit Root:', pvalues[i]>0.05,'\\n'\n",
    "             'VC-Test pvalue = ', round(volclusvalues[i],3), ' \\u21FE ','Volatility Clustering:', volclusvalues[i]<0.05,'\\n' \n",
    "             'Kurtosis value = ', kurtosisvalues[i].round(3),' \\u21FE ','Leptokurtic:', kurtosisvalues[i]>0,'\\n'    ]\n",
    "    title = ' '.join(str(e) for e in title)\n",
    "    fig.suptitle(title,fontsize=22,color='black')\n",
    "    fig.savefig(f'{RESULT_DIR}/immagini/Price and technical fraction over time run={i}',facecolor='white', transparent=False)\n",
    "    plt.close(fig)"
   ]
  },
  {
   "cell_type": "markdown",
   "metadata": {},
   "source": [
    "## Histograms"
   ]
  },
  {
   "cell_type": "code",
   "execution_count": 45,
   "metadata": {},
   "outputs": [],
   "source": [
    "import pandas as pd\n",
    "import matplotlib.pyplot as plt\n",
    "import numpy as np"
   ]
  },
  {
   "cell_type": "code",
   "execution_count": 15,
   "metadata": {},
   "outputs": [],
   "source": [
    "plt.style.use('ggplot')"
   ]
  },
  {
   "cell_type": "code",
   "execution_count": 41,
   "metadata": {},
   "outputs": [
    {
     "data": {
      "text/html": [
       "<div>\n",
       "<style scoped>\n",
       "    .dataframe tbody tr th:only-of-type {\n",
       "        vertical-align: middle;\n",
       "    }\n",
       "\n",
       "    .dataframe tbody tr th {\n",
       "        vertical-align: top;\n",
       "    }\n",
       "\n",
       "    .dataframe thead th {\n",
       "        text-align: right;\n",
       "    }\n",
       "</style>\n",
       "<table border=\"1\" class=\"dataframe\">\n",
       "  <thead>\n",
       "    <tr style=\"text-align: right;\">\n",
       "      <th></th>\n",
       "      <th>run</th>\n",
       "      <th>seed</th>\n",
       "      <th>adfuller</th>\n",
       "      <th>acorr_ljungbox</th>\n",
       "      <th>kurtosis10</th>\n",
       "      <th>kurtosis60</th>\n",
       "      <th>kurtosis600</th>\n",
       "    </tr>\n",
       "  </thead>\n",
       "  <tbody>\n",
       "    <tr>\n",
       "      <th>0</th>\n",
       "      <td>0</td>\n",
       "      <td>654.0</td>\n",
       "      <td>0.102024</td>\n",
       "      <td>0.0</td>\n",
       "      <td>0.015410</td>\n",
       "      <td>-0.126901</td>\n",
       "      <td>0.154008</td>\n",
       "    </tr>\n",
       "    <tr>\n",
       "      <th>1</th>\n",
       "      <td>1</td>\n",
       "      <td>114.0</td>\n",
       "      <td>0.380553</td>\n",
       "      <td>0.0</td>\n",
       "      <td>0.114310</td>\n",
       "      <td>-0.156964</td>\n",
       "      <td>-0.282484</td>\n",
       "    </tr>\n",
       "    <tr>\n",
       "      <th>2</th>\n",
       "      <td>2</td>\n",
       "      <td>25.0</td>\n",
       "      <td>0.404296</td>\n",
       "      <td>0.0</td>\n",
       "      <td>0.054016</td>\n",
       "      <td>-0.094926</td>\n",
       "      <td>0.704943</td>\n",
       "    </tr>\n",
       "    <tr>\n",
       "      <th>3</th>\n",
       "      <td>3</td>\n",
       "      <td>759.0</td>\n",
       "      <td>0.288813</td>\n",
       "      <td>0.0</td>\n",
       "      <td>-0.077658</td>\n",
       "      <td>-0.123481</td>\n",
       "      <td>-0.080342</td>\n",
       "    </tr>\n",
       "    <tr>\n",
       "      <th>4</th>\n",
       "      <td>4</td>\n",
       "      <td>281.0</td>\n",
       "      <td>0.057071</td>\n",
       "      <td>0.0</td>\n",
       "      <td>-0.071132</td>\n",
       "      <td>0.043000</td>\n",
       "      <td>2.148558</td>\n",
       "    </tr>\n",
       "    <tr>\n",
       "      <th>...</th>\n",
       "      <td>...</td>\n",
       "      <td>...</td>\n",
       "      <td>...</td>\n",
       "      <td>...</td>\n",
       "      <td>...</td>\n",
       "      <td>...</td>\n",
       "      <td>...</td>\n",
       "    </tr>\n",
       "    <tr>\n",
       "      <th>495</th>\n",
       "      <td>495</td>\n",
       "      <td>636.0</td>\n",
       "      <td>0.452619</td>\n",
       "      <td>0.0</td>\n",
       "      <td>0.052212</td>\n",
       "      <td>-0.109828</td>\n",
       "      <td>0.525829</td>\n",
       "    </tr>\n",
       "    <tr>\n",
       "      <th>496</th>\n",
       "      <td>496</td>\n",
       "      <td>576.0</td>\n",
       "      <td>0.145894</td>\n",
       "      <td>0.0</td>\n",
       "      <td>0.093422</td>\n",
       "      <td>0.275233</td>\n",
       "      <td>0.657484</td>\n",
       "    </tr>\n",
       "    <tr>\n",
       "      <th>497</th>\n",
       "      <td>497</td>\n",
       "      <td>102.0</td>\n",
       "      <td>0.308959</td>\n",
       "      <td>0.0</td>\n",
       "      <td>0.067628</td>\n",
       "      <td>0.034650</td>\n",
       "      <td>0.273534</td>\n",
       "    </tr>\n",
       "    <tr>\n",
       "      <th>498</th>\n",
       "      <td>498</td>\n",
       "      <td>75.0</td>\n",
       "      <td>0.434912</td>\n",
       "      <td>0.0</td>\n",
       "      <td>0.117799</td>\n",
       "      <td>0.118722</td>\n",
       "      <td>0.274933</td>\n",
       "    </tr>\n",
       "    <tr>\n",
       "      <th>499</th>\n",
       "      <td>499</td>\n",
       "      <td>550.0</td>\n",
       "      <td>0.260348</td>\n",
       "      <td>0.0</td>\n",
       "      <td>-0.102095</td>\n",
       "      <td>0.078765</td>\n",
       "      <td>0.097592</td>\n",
       "    </tr>\n",
       "  </tbody>\n",
       "</table>\n",
       "<p>500 rows × 7 columns</p>\n",
       "</div>"
      ],
      "text/plain": [
       "     run   seed  adfuller  acorr_ljungbox  kurtosis10  kurtosis60  kurtosis600\n",
       "0      0  654.0  0.102024             0.0    0.015410   -0.126901     0.154008\n",
       "1      1  114.0  0.380553             0.0    0.114310   -0.156964    -0.282484\n",
       "2      2   25.0  0.404296             0.0    0.054016   -0.094926     0.704943\n",
       "3      3  759.0  0.288813             0.0   -0.077658   -0.123481    -0.080342\n",
       "4      4  281.0  0.057071             0.0   -0.071132    0.043000     2.148558\n",
       "..   ...    ...       ...             ...         ...         ...          ...\n",
       "495  495  636.0  0.452619             0.0    0.052212   -0.109828     0.525829\n",
       "496  496  576.0  0.145894             0.0    0.093422    0.275233     0.657484\n",
       "497  497  102.0  0.308959             0.0    0.067628    0.034650     0.273534\n",
       "498  498   75.0  0.434912             0.0    0.117799    0.118722     0.274933\n",
       "499  499  550.0  0.260348             0.0   -0.102095    0.078765     0.097592\n",
       "\n",
       "[500 rows x 7 columns]"
      ]
     },
     "execution_count": 41,
     "metadata": {},
     "output_type": "execute_result"
    }
   ],
   "source": [
    "stats = pd.read_csv(\"{RESULT_DIR}/run_0/stats.csv\")\n",
    "stats"
   ]
  },
  {
   "cell_type": "code",
   "execution_count": 42,
   "metadata": {},
   "outputs": [],
   "source": [
    "df_pvals = stats['adfuller']\n",
    "vc_pvals = stats['acorr_ljungbox']\n",
    "kurtosis60 = stats['kurtosis60']"
   ]
  },
  {
   "cell_type": "code",
   "execution_count": 40,
   "metadata": {},
   "outputs": [
    {
     "data": {
      "text/plain": [
       "<matplotlib.lines.Line2D at 0x2cfe3197df0>"
      ]
     },
     "execution_count": 40,
     "metadata": {},
     "output_type": "execute_result"
    },
    {
     "data": {
      "image/png": "[encoded data removed]",
      "text/plain": [
       "<Figure size 720x504 with 1 Axes>"
      ]
     },
     "metadata": {},
     "output_type": "display_data"
    }
   ],
   "source": [
    "plt.figure(1, figsize=(10,7))\n",
    "n,bins,patches = plt.hist(df_pvals,50,density=True,facecolor='black',alpha=0.7)\n",
    "plt.axvline(0.05,color='r',alpha=0.6)"
   ]
  },
  {
   "cell_type": "code",
   "execution_count": 46,
   "metadata": {},
   "outputs": [
    {
     "data": {
      "text/plain": [
       "<matplotlib.lines.Line2D at 0x2cfe0ab16f0>"
      ]
     },
     "execution_count": 46,
     "metadata": {},
     "output_type": "execute_result"
    },
    {
     "data": {
      "image/png": "[encoded data removed]",
      "text/plain": [
       "<Figure size 720x504 with 1 Axes>"
      ]
     },
     "metadata": {},
     "output_type": "display_data"
    }
   ],
   "source": [
    "plt.figure(1, figsize=(10,7))\n",
    "n,bins,patches = plt.hist(kurtosis60,50,density=True,facecolor='black',alpha=0.7)\n",
    "plt.axvline(0,color='r',alpha=0.6)\n",
    "plt.axvline(np.average(kurtosis60),color='y')"
   ]
  },
  {
   "cell_type": "code",
   "execution_count": 5,
   "metadata": {},
   "outputs": [],
   "source": [
    "vcvals = pd.read_csv(\"avgcovperrun.csv\")"
   ]
  },
  {
   "cell_type": "code",
   "execution_count": 32,
   "metadata": {},
   "outputs": [],
   "source": [
    "vc = vcvals.to_numpy()[:,1]"
   ]
  },
  {
   "cell_type": "code",
   "execution_count": 37,
   "metadata": {},
   "outputs": [
    {
     "data": {
      "text/plain": [
       "array([0.0014079 , 0.00143846, 0.0014281 , 0.00145162, 0.00141941,\n",
       "       0.0013997 , 0.00144284, 0.00143738, 0.00143644, 0.00146128,\n",
       "       0.00142692, 0.00147542, 0.00141623, 0.00142706, 0.00140361,\n",
       "       0.00143049, 0.00142634, 0.00145331, 0.00143055, 0.00141025,\n",
       "       0.00140377, 0.00143087, 0.00144534, 0.00142713, 0.00141149,\n",
       "       0.00140069, 0.00140481, 0.00142074, 0.00143751, 0.00140872,\n",
       "       0.00144038, 0.00143572, 0.00143002, 0.00142371, 0.0014435 ,\n",
       "       0.00142529, 0.00139567, 0.00142789, 0.00137768, 0.00144441,\n",
       "       0.00143602, 0.00145553, 0.00145607, 0.00141791, 0.00140577,\n",
       "       0.00141985, 0.00142713, 0.00143027, 0.00144907, 0.00140084,\n",
       "       0.00141417, 0.001419  , 0.00144059, 0.00141975, 0.00143632,\n",
       "       0.0014321 , 0.00141628, 0.00141565, 0.00144792, 0.00144269,\n",
       "       0.00138898, 0.00143617, 0.0014355 , 0.00142819, 0.00143754,\n",
       "       0.00144859, 0.00143893, 0.001446  , 0.00140964, 0.0014149 ,\n",
       "       0.00139267, 0.00144286, 0.00146812, 0.00139498, 0.00140756,\n",
       "       0.00143706, 0.00144828, 0.0014396 , 0.00141439, 0.00140474,\n",
       "       0.00146857, 0.00139014, 0.00142688, 0.0014426 , 0.00144017,\n",
       "       0.00142346, 0.00143025, 0.00140008, 0.00144214, 0.00144817,\n",
       "       0.00143887, 0.00136965, 0.00138797, 0.00143261, 0.00144351,\n",
       "       0.00142966, 0.00144388, 0.00145279, 0.00145702, 0.00141378,\n",
       "       0.00142628, 0.00141871, 0.00141784, 0.00145556, 0.0014399 ,\n",
       "       0.00145478, 0.00142795, 0.00137835, 0.00144521, 0.00146318,\n",
       "       0.00145461, 0.00143942, 0.00142636, 0.00144665, 0.00141981,\n",
       "       0.00143571, 0.00142493, 0.00143222, 0.00140382, 0.00142227,\n",
       "       0.00139847, 0.00143034, 0.00143242, 0.00142655, 0.00142249,\n",
       "       0.00145808, 0.00141048, 0.00141544, 0.00143327, 0.00144381,\n",
       "       0.00144178, 0.00143521, 0.00142055, 0.00139165, 0.00143054,\n",
       "       0.0014411 , 0.00142193, 0.00145269, 0.00144158, 0.0014318 ,\n",
       "       0.00144576, 0.00137852, 0.0014676 , 0.00140478, 0.00142988,\n",
       "       0.0013933 , 0.00141608, 0.00141459, 0.00138641, 0.00140753,\n",
       "       0.00144102, 0.00141524, 0.00141156, 0.0014528 , 0.00141993,\n",
       "       0.00146045, 0.00140403, 0.00144483, 0.00146564, 0.00142561,\n",
       "       0.00141684, 0.00143942, 0.00144789, 0.00145219, 0.00139409,\n",
       "       0.00142633, 0.00142797, 0.00147794, 0.00146453, 0.00135493,\n",
       "       0.00145086, 0.00140209, 0.00146305, 0.00145029, 0.00140648,\n",
       "       0.00143186, 0.00145827, 0.00141381, 0.001433  , 0.00144777,\n",
       "       0.00138423, 0.00139297, 0.00146493, 0.00143045, 0.00145003,\n",
       "       0.00138425, 0.00142706, 0.00143752, 0.00142901, 0.00141348,\n",
       "       0.00141018, 0.00144085, 0.0014583 , 0.00140968, 0.00142657,\n",
       "       0.00143113, 0.00147018, 0.0014355 , 0.00143592, 0.00147806,\n",
       "       0.00145654, 0.00141062, 0.0014155 , 0.00141501, 0.00142402,\n",
       "       0.00151548, 0.00140911, 0.00139928, 0.00142136, 0.00143614,\n",
       "       0.00143925, 0.00140564, 0.00144376, 0.00143745, 0.00142334,\n",
       "       0.00138386, 0.0013926 , 0.00145717, 0.00141172, 0.00144512,\n",
       "       0.00140413, 0.0014578 , 0.00147507, 0.00142886, 0.00141321,\n",
       "       0.00144556, 0.0014353 , 0.00141514, 0.00140664, 0.0014135 ,\n",
       "       0.0014068 , 0.00139087, 0.00143736, 0.00142209, 0.00141052,\n",
       "       0.00140993, 0.00142453, 0.00143655, 0.00141816, 0.00142312,\n",
       "       0.00141585, 0.0014242 , 0.00145326, 0.00137213, 0.00143874,\n",
       "       0.00138989, 0.00149237, 0.00142613, 0.00144804, 0.00145237,\n",
       "       0.00141551, 0.00141853, 0.00140379, 0.00142699, 0.00141077,\n",
       "       0.00144994, 0.00142869, 0.00140271, 0.00139256, 0.00141977,\n",
       "       0.00143341, 0.00141341, 0.00142786, 0.00141145, 0.00143677,\n",
       "       0.00140918, 0.00144724, 0.00142609, 0.00144233, 0.0014324 ,\n",
       "       0.00141319, 0.00144875, 0.00145117, 0.00146102, 0.00143878,\n",
       "       0.00143021, 0.0014021 , 0.00140967, 0.00141563, 0.00146072,\n",
       "       0.0014216 , 0.00143419, 0.00143831, 0.0014191 , 0.00136479,\n",
       "       0.00141926, 0.00145096, 0.00141102, 0.00144382, 0.00146828,\n",
       "       0.00149538, 0.00146625, 0.00139292, 0.00140031, 0.00148033,\n",
       "       0.00146958, 0.00139713, 0.00142793, 0.00142172, 0.00142204,\n",
       "       0.00140979, 0.00145719, 0.00149391, 0.00143179, 0.00142005,\n",
       "       0.00145654, 0.00142896, 0.00145978, 0.00143146, 0.0014384 ,\n",
       "       0.0014179 , 0.00136171, 0.00144265, 0.00144289, 0.00145445,\n",
       "       0.00139907, 0.00139056, 0.00143263, 0.00144878, 0.00144155,\n",
       "       0.00143751, 0.00146703, 0.00145172, 0.00142436, 0.00141743,\n",
       "       0.00142967, 0.00142229, 0.00144577, 0.00143801, 0.00143118,\n",
       "       0.00137529, 0.0014037 , 0.00143635, 0.00144515, 0.00143499,\n",
       "       0.00138132, 0.00140607, 0.00142341, 0.0014317 , 0.00141374,\n",
       "       0.00144766, 0.00142891, 0.00143279, 0.00145378, 0.00147031,\n",
       "       0.00143796, 0.00141277, 0.00140931, 0.00141355, 0.0013881 ,\n",
       "       0.00142568, 0.00143633, 0.00147013, 0.00146682, 0.00142638,\n",
       "       0.00145959, 0.00146596, 0.00140847, 0.00142453, 0.00141786,\n",
       "       0.00142946, 0.00144719, 0.00139703, 0.00143887, 0.00141329,\n",
       "       0.00143724, 0.00148383, 0.00144524, 0.00143762, 0.00142331,\n",
       "       0.00141896, 0.00139216, 0.00142814, 0.00148907, 0.00143829,\n",
       "       0.00143351, 0.00140323, 0.00142988, 0.0014224 , 0.00142233,\n",
       "       0.0014056 , 0.00138499, 0.00145211, 0.00143467, 0.00146663,\n",
       "       0.00144364, 0.00143233, 0.00142413, 0.00144601, 0.00142411,\n",
       "       0.00140354, 0.00140476, 0.00139731, 0.00144172, 0.00144903,\n",
       "       0.00141062, 0.001446  , 0.00145948, 0.00140563, 0.0014308 ,\n",
       "       0.00142051, 0.00145476, 0.00142162, 0.00142991, 0.00142542,\n",
       "       0.0014147 , 0.00148018, 0.00144896, 0.00142333, 0.0014514 ,\n",
       "       0.00145034, 0.00142769, 0.0014446 , 0.00140069, 0.00142624,\n",
       "       0.00143763, 0.00139618, 0.0014092 , 0.00142471, 0.00146021,\n",
       "       0.00143662, 0.00141176, 0.00139646, 0.00144416, 0.0014387 ,\n",
       "       0.00144108, 0.00142832, 0.00141667, 0.00146963, 0.00138213,\n",
       "       0.00146244, 0.00145546, 0.00136971, 0.00140977, 0.00144125,\n",
       "       0.00140389, 0.00141103, 0.0014148 , 0.00139746, 0.00140772,\n",
       "       0.0014118 , 0.00145211, 0.00145066, 0.00145151, 0.00142964,\n",
       "       0.00142475, 0.00144456, 0.00146589, 0.00144596, 0.0014447 ,\n",
       "       0.00144278, 0.00144569, 0.00144878, 0.00143899, 0.00137912,\n",
       "       0.00147343, 0.00146798, 0.00138433, 0.00143645, 0.00144685,\n",
       "       0.00147214, 0.00138054, 0.00141764, 0.00142073, 0.00143385,\n",
       "       0.00138047, 0.00143343, 0.00147607, 0.00144546, 0.00144148,\n",
       "       0.00141103, 0.00142504, 0.00145973, 0.00143067, 0.00145973,\n",
       "       0.00142644, 0.00142197, 0.00145923, 0.00146816, 0.00143887,\n",
       "       0.00140364, 0.00144494, 0.00140855, 0.0013493 , 0.0014773 ,\n",
       "       0.00141085, 0.00141906, 0.00144377, 0.00144774, 0.00147267,\n",
       "       0.00142162, 0.00141681, 0.00140813, 0.00141445, 0.00140658,\n",
       "       0.00143339, 0.00146208, 0.00141895, 0.00139587, 0.00142026])"
      ]
     },
     "execution_count": 37,
     "metadata": {},
     "output_type": "execute_result"
    }
   ],
   "source": [
    "vc"
   ]
  },
  {
   "cell_type": "code",
   "execution_count": 40,
   "metadata": {},
   "outputs": [
    {
     "data": {
      "image/png": "[encoded data removed]",
      "text/plain": [
       "<Figure size 720x504 with 1 Axes>"
      ]
     },
     "metadata": {},
     "output_type": "display_data"
    }
   ],
   "source": [
    "plt.figure(1, figsize=(10,7))\n",
    "n, bins, patches = plt.hist(vc,50,facecolor='black',alpha=0.7)\n",
    "# plt.axvline(0.05,color='r',alpha=0.6)\n",
    "# plt.axvline(np.average(kurtosis60),color='y')"
   ]
  }
 ],
 "metadata": {
  "kernelspec": {
   "display_name": "Python 3.10.5 64-bit",
   "language": "python",
   "name": "python3"
  },
  "language_info": {
   "codemirror_mode": {
    "name": "ipython",
    "version": 3
   },
   "file_extension": ".py",
   "mimetype": "text/x-python",
   "name": "python",
   "nbconvert_exporter": "python",
   "pygments_lexer": "ipython3",
   "version": "3.10.5"
  },
  "orig_nbformat": 4,
  "vscode": {
   "interpreter": {
    "hash": "ba18286d27dd3f1705df4025c31d2b7021c67fcd01f023a6f194ed0db21ec453"
   }
  }
 },
 "nbformat": 4,
 "nbformat_minor": 2
}
